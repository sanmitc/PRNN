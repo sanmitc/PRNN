{
 "cells": [
  {
   "cell_type": "markdown",
   "id": "e716c02f",
   "metadata": {},
   "source": [
    "## Q4"
   ]
  },
  {
   "cell_type": "code",
   "execution_count": 22,
   "id": "c1bbb553",
   "metadata": {},
   "outputs": [
    {
     "data": {
      "text/plain": [
       "array([5., 5., 5., 5., 5., 5.])"
      ]
     },
     "execution_count": 22,
     "metadata": {},
     "output_type": "execute_result"
    }
   ],
   "source": [
    "import numpy as np\n",
    "\n",
    "a=[]\n",
    "b=np.array([5,5,5])\n",
    "c=np.append(a,b)\n",
    "np.append(c,b)"
   ]
  },
  {
   "cell_type": "code",
   "execution_count": 14,
   "id": "f3228680",
   "metadata": {},
   "outputs": [
    {
     "name": "stdout",
     "output_type": "stream",
     "text": [
      "[5. 5. 5.]\n"
     ]
    }
   ],
   "source": [
    "print(c)"
   ]
  },
  {
   "cell_type": "code",
   "execution_count": 15,
   "id": "266feeed",
   "metadata": {},
   "outputs": [],
   "source": [
    "import numpy as np\n",
    "import matplotlib.pyplot as plt\n",
    "import math\n",
    "from csv import reader"
   ]
  },
  {
   "cell_type": "code",
   "execution_count": 16,
   "id": "f4adb22b",
   "metadata": {},
   "outputs": [],
   "source": [
    "def read_csv(upload):\n",
    "    x=[]\n",
    "    y=[]\n",
    "    file = open(upload,'r')\n",
    "    r = reader(file)\n",
    "    count=1\n",
    "    for row in r:\n",
    "        if(count>1):\n",
    "            x.append(row[1:])\n",
    "            y.append(row[0])\n",
    "        count+=1\n",
    "    return [x,y]\n",
    "\n",
    "upload = \"PCA_MNIST.csv\"\n",
    "data = read_csv(upload)"
   ]
  },
  {
   "cell_type": "code",
   "execution_count": 19,
   "id": "59582842",
   "metadata": {},
   "outputs": [],
   "source": [
    "y_train=data[1]\n",
    "x_train=np.array(data[0]).astype(np.float64)/255"
   ]
  },
  {
   "cell_type": "code",
   "execution_count": 20,
   "id": "b0b9f589",
   "metadata": {},
   "outputs": [
    {
     "name": "stdout",
     "output_type": "stream",
     "text": [
      "[[ 2.36583291 -1.04300844  0.1158567  ... -0.15809439  1.49486139\n",
      "  -0.74364461]\n",
      " [ 1.17062016 -0.38252849  0.20823531 ...  0.95752241  0.99508716\n",
      "   1.02971592]\n",
      " [-1.66910643  2.53392258  1.70043943 ... -1.56686864  1.35998079\n",
      "  -0.50619125]\n",
      " ...\n",
      " [-2.2308468   0.0233176   1.84563781 ... -0.87445603  0.5879309\n",
      "  -0.63711032]\n",
      " [ 3.02643918 -0.41482651  1.16273309 ... -0.33012283  0.2826223\n",
      "   0.35619552]\n",
      " [ 1.5660565   0.87363992  0.63290923 ... -0.54816256  0.39747253\n",
      "   0.5829402 ]]\n"
     ]
    }
   ],
   "source": [
    "print(x_train)"
   ]
  },
  {
   "cell_type": "code",
   "execution_count": 35,
   "id": "4d64b918",
   "metadata": {},
   "outputs": [
    {
     "name": "stdout",
     "output_type": "stream",
     "text": [
      "[[ 9 15]\n",
      " [15 25]]\n"
     ]
    }
   ],
   "source": [
    "a=np.matrix([3,5])\n",
    "b=np.matrix([3,5])\n",
    "\n",
    "c=a.T@b\n",
    "print(c)"
   ]
  },
  {
   "cell_type": "code",
   "execution_count": 37,
   "id": "f1580c9d",
   "metadata": {},
   "outputs": [
    {
     "data": {
      "text/plain": [
       "array([[5, 5],\n",
       "       [4, 6],\n",
       "       [6, 7],\n",
       "       [7, 8]])"
      ]
     },
     "execution_count": 37,
     "metadata": {},
     "output_type": "execute_result"
    }
   ],
   "source": [
    "a=np.array([[5,4,6,7],[5,6,7,8]])\n",
    "a.T"
   ]
  },
  {
   "cell_type": "code",
   "execution_count": 6,
   "id": "1ac206ab",
   "metadata": {},
   "outputs": [
    {
     "name": "stdout",
     "output_type": "stream",
     "text": [
      "[ 0  1  2  3  4  5  6  7  8  9 10 11 12 13 14 15 16 17 18 19 20 21 22 23\n",
      " 24 25 26 27 28 29 30 31 32 33 34 35 36 37 38 39 40 41 42 43 44 45 46 47\n",
      " 48 49 50 51 52 53 54 55 56 57 58 59 60 61 62 63 64 65 66 67 68 69 70 71\n",
      " 72 73 74 75 76 77 78 79 80 81 82 83 84 85 86 87 88 89 90 91 92 93 94 95\n",
      " 96 97 98 99]\n"
     ]
    }
   ],
   "source": [
    "import numpy as np\n",
    "\n",
    "x=np.arange(100)\n",
    "print(x)"
   ]
  },
  {
   "cell_type": "code",
   "execution_count": null,
   "id": "778495f6",
   "metadata": {},
   "outputs": [],
   "source": []
  }
 ],
 "metadata": {
  "kernelspec": {
   "display_name": "Python 3 (ipykernel)",
   "language": "python",
   "name": "python3"
  },
  "language_info": {
   "codemirror_mode": {
    "name": "ipython",
    "version": 3
   },
   "file_extension": ".py",
   "mimetype": "text/x-python",
   "name": "python",
   "nbconvert_exporter": "python",
   "pygments_lexer": "ipython3",
   "version": "3.9.12"
  }
 },
 "nbformat": 4,
 "nbformat_minor": 5
}
