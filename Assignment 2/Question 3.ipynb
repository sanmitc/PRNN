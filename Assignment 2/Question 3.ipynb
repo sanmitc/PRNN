{
 "cells": [
  {
   "cell_type": "markdown",
   "id": "29de403b",
   "metadata": {},
   "source": [
    "# Q3"
   ]
  },
  {
   "cell_type": "code",
   "execution_count": 1,
   "id": "e5eef3c4",
   "metadata": {},
   "outputs": [],
   "source": [
    "import numpy as np\n",
    "import matplotlib.pyplot as plt\n",
    "import math\n",
    "from csv import reader"
   ]
  },
  {
   "cell_type": "code",
   "execution_count": 78,
   "id": "9b0256ca",
   "metadata": {},
   "outputs": [],
   "source": [
    "# making the linear model class\n",
    "\n",
    "class linear_regression:\n",
    "#In this case we initialise the function based on various parameters,\n",
    "#and these include the type of regularisation applied, the number of data points, the learning rate(lr), the maximum number of iterations e can tolerate.\n",
    "#the regularisation parameter lamda.\n",
    "\n",
    "\n",
    "\n",
    "#We initialise this model as follows: regularisation is set is to the default case of none.\n",
    "#The regularisation parameter is set to a reasonable value of 0.2\n",
    "# The learning rate lr is set to 0.05\n",
    "#The batch size is set to be 1\n",
    "#maximum iterations can be anything, set to 10-100 while creation of the model.\n",
    "\n",
    "\n",
    "    def __init__(self, regu='None', lr=0.05, bs=1, m_iter=10, reg_para1=0.1, reg_para2=0.1):\n",
    "        self.lr=lr\n",
    "        self.bs=bs\n",
    "        self.m_iter=m_iter\n",
    "        self.reg_para1=reg_para1*(regu!='None')\n",
    "        self.reg_para2=reg_para2*(regu!='None')\n",
    "        self.regu=regu\n",
    "        \n",
    "    def Pred(self,Xdj):\n",
    "        w_f=self.w.astype(np.float64)\n",
    "        #x_com=np.hstack((np.ones((Xd.shape[0], 1)), Xd))\n",
    "        return np.dot(self.w, Xdj)\n",
    "        \n",
    "        \n",
    "    def train(self, Xd, Yd):\n",
    "        self.x=Xd\n",
    "        self.y=Yd\n",
    "\n",
    "        #defining the rows and columns \n",
    "        self.rowx = self.x.shape[0]\n",
    "        self.colx = self.x.shape[1]\n",
    "        self.rowy = self.y.shape[0]\n",
    "\n",
    "        self.w=[0]*self.colx\n",
    "        self.w=np.array(self.w)\n",
    "\n",
    "        for i in range(self.m_iter):\n",
    "          #batch counter is set to 0 after passing of each batch.\n",
    "          batch_counter=0\n",
    "          #the gradient vector for the sequential learning should have same dimensions as w.\n",
    "          nabla=[0]*self.colx\n",
    "          #iterate over all the data points in batches:\n",
    "          for j in range(self.rowx):\n",
    "            batch_counter=(batch_counter+1)%self.bs\n",
    "            diff=(self.y[j]-self.Pred(self.x[j])) \n",
    "            nabla+=diff*self.x[j]\n",
    "            #start new normalisation after each batch.\n",
    "            if batch_counter==0:\n",
    "              #update the weight matrix according to the regularisation.\n",
    "                if(self.regu==\"L2\" or self.regu==\"None\"):\n",
    "                    reg_para=self.reg_para2\n",
    "                    b = self.w[0]\n",
    "                    self.w = (self.w)*(1-self.lr*reg_para) + (nabla * self.lr)/self.bs\n",
    "                    #self.w[0] = b+(nabla[0]*self.lr)/self.bs\n",
    "                if(self.regu==\"L1\"):\n",
    "                    reg_para=self.reg_para1\n",
    "                    b = self.w[0]\n",
    "                    self.w = (self.w)-self.lr*reg_para*np.sign(self.w) + (nabla * self.lr)/self.bs\n",
    "                    #self.w[0] = b+(nabla[0]*self.lr)/self.bs\n",
    "                if(self.regu==\"L1+L2\"):\n",
    "                    b = self.w[0]\n",
    "                    self.w = (self.w)*(1-self.lr*self.reg_para2)-self.lr*self.reg_para1*np.sign(self.w) + (nabla * self.lr)/self.bs\n",
    "                    #self.w[0] = b+(nabla[0]*self.lr)/self.bs \n",
    "                nabla=[0]*self.colx\n",
    "            self.nabla=nabla\n",
    "\n",
    "\n",
    "\n",
    "    def normal_equation(self, Xd, Yd):\n",
    "        X=self.processing_function(Xd)\n",
    "        self.x=X\n",
    "        self.y=Yd\n",
    "\n",
    "        #defining the rows and columns \n",
    "        self.rowx = self.x.shape[0]\n",
    "        self.colx = self.x.shape[1]\n",
    "        self.rowy = self.y.shape[0]\n",
    "\n",
    "\n",
    "        x_t=np.transpose(self.x)\n",
    "        y_t=np.transpose(self.y)\n",
    "        x_t=x_t.astype(np.float64)\n",
    "        self.x=self.x.astype(np.float64)\n",
    "        mul=x_t @ self.x\n",
    "        mul_inv= np.linalg.inv(mul)\n",
    "        mul_pinv= mul_inv @ x_t\n",
    "        y_t=y_t.astype(np.float64)\n",
    "        w_ML=mul_pinv @ y_t\n",
    "        T_pred= self.x @ w_ML\n",
    "\n",
    "        self.w=w_ML\n",
    "\n",
    "    def error(self, Xd, Yd):\n",
    "        self.x=Xd\n",
    "        err_mse=0\n",
    "        err_mae=0\n",
    "        row=Xd.shape[0]\n",
    "        for i in range(row):\n",
    "            err_mse+= (Yd[i] - self.Pred(self.x[i]))**2\n",
    "            err_mae+= np.abs((Yd[i] - self.Pred(self.x[i])))\n",
    "        self.err_mse = err_mse/row\n",
    "        self.err_mae= err_mae/row\n",
    "        "
   ]
  },
  {
   "cell_type": "markdown",
   "id": "17d83834",
   "metadata": {},
   "source": [
    "bias and variance calculation\n",
    "bias here is the same as mean sqaured error when calculated on the training data set. \n",
    "Variance here will be the same as the mean squared error calculated on the testing data set."
   ]
  },
  {
   "cell_type": "markdown",
   "id": "20ee9509",
   "metadata": {},
   "source": [
    "## Methodology:\n",
    "\n",
    "First we take the data and we raise it to the power of a desired polynomial to carry out a polynomial regression. So, let us say we have 3 features in the feature space. $x_1, x_2, x_3$, now, we carry out a 3rd degree polynomial regression. This gives us the desired form of the training function to be\n",
    "\n",
    "$f(x_1, x_2, x_3)= x_1^3 + x_2^3 +x_3^3 +x_1^2x_2 + x_1^2x_3 +  x_1x_2^2 + x_2^2x_3 + x_1x_3^2 +x_2x_3^2 +x_1x_2x_3 + \\text{square terms, linear terms}$\n",
    "\n",
    "So, each of the term that we see here, will have a weight assigned to it.\n",
    "\n",
    "So, it basically means we have now many paramters, instead of 3. After fitting the curve we have to calcuate the bias variance curve."
   ]
  },
  {
   "cell_type": "markdown",
   "id": "46cb5751",
   "metadata": {},
   "source": [
    "\n",
    "## p1\n",
    "For p1-A1, we have only 2 features. So, given the data of $x_1$ and $x_2$, we can easily construct another table where the rows will be the terms of the poynomial expansion terms of $x_1,x_2$. For example: for degree 3 we have: $x_1^3, x_1^2x_2, x_1x_2^2, x_2^3, x_1^2, x_2^2, x_1x_2, x_1, x_2, 1$. For a polynomial of degree d we would have (d+1)+(d)+...+1=$\\frac{(d+2)(d+1)}{2}$ parameters."
   ]
  },
  {
   "cell_type": "code",
   "execution_count": 3,
   "id": "b75dbfc4",
   "metadata": {},
   "outputs": [],
   "source": [
    "def read_csv(upload):\n",
    "    data = []\n",
    "    file = open(upload,'r')\n",
    "    r = reader(file)\n",
    "    for row in r:\n",
    "        data.append(row)\n",
    "\n",
    "    return data\n"
   ]
  },
  {
   "cell_type": "code",
   "execution_count": 4,
   "id": "af8a51c1",
   "metadata": {},
   "outputs": [
    {
     "data": {
      "text/plain": [
       "'row=x_tr.shape[0]\\np=[]\\nfor j in range(row):\\n    if(np.abs(x_tr[j][0])>1 and np.abs(x_tr[j][1])>1):\\n        p.append(1)\\n    else:\\n        p.append(0)\\np=np.array(p)\\nx_tr=x_tr[p==1]'"
      ]
     },
     "execution_count": 4,
     "metadata": {},
     "output_type": "execute_result"
    }
   ],
   "source": [
    "#Extracting the data for training set\n",
    "upload_tr = \"p1_train.csv\"\n",
    "data_tr = read_csv(upload_tr)\n",
    "data_tr=np.array(data_tr).astype(np.float64)\n",
    "#normalise to get good result in gradient descent\n",
    "\n",
    "x_tr=data_tr[:,:-1]/20\n",
    "y_tr=data_tr[:,-1]/20\n",
    "\n",
    "'''row=x_tr.shape[0]\n",
    "p=[]\n",
    "for j in range(row):\n",
    "    if(np.abs(x_tr[j][0])>1 and np.abs(x_tr[j][1])>1):\n",
    "        p.append(1)\n",
    "    else:\n",
    "        p.append(0)\n",
    "p=np.array(p)\n",
    "x_tr=x_tr[p==1]'''\n",
    "\n",
    "\n",
    "#x_tr=x_tr/20 + 2\n",
    "#y_tr=y_tr/60 + 2"
   ]
  },
  {
   "cell_type": "code",
   "execution_count": 5,
   "id": "3ae82446",
   "metadata": {},
   "outputs": [
    {
     "data": {
      "text/plain": [
       "'row2=x_tst.shape[0]\\np2=[]\\nfor j in range(row2):\\n    if(np.abs(x_tst[j][0])>1 and np.abs(x_tst[j][1])>1):\\n        p2.append(1)\\n    else:\\n        p2.append(0)\\np2=np.array(p2)\\nx_tst=x_tst[p2==1]'"
      ]
     },
     "execution_count": 5,
     "metadata": {},
     "output_type": "execute_result"
    }
   ],
   "source": [
    "#Extracting the data for testing set\n",
    "upload_tst = \"p1_test.csv\"\n",
    "data_tst = read_csv(upload_tst)\n",
    "data_tst=np.array(data_tst).astype(np.float64)\n",
    "#normalise to get good result in gradient descent\n",
    "x_tst=data_tst[:,:-1]/20\n",
    "y_tst=data_tst[:,1]/20\n",
    "\n",
    "\n",
    "'''row2=x_tst.shape[0]\n",
    "p2=[]\n",
    "for j in range(row2):\n",
    "    if(np.abs(x_tst[j][0])>1 and np.abs(x_tst[j][1])>1):\n",
    "        p2.append(1)\n",
    "    else:\n",
    "        p2.append(0)\n",
    "p2=np.array(p2)\n",
    "x_tst=x_tst[p2==1]'''\n",
    "\n",
    "\n",
    "#x_tst=x_tst/20 + 2\n",
    "#y_tst=y_tst/60 + 2"
   ]
  },
  {
   "cell_type": "markdown",
   "id": "2c9095f6",
   "metadata": {},
   "source": [
    "### Overparametrised Model in Polynomial Basis"
   ]
  },
  {
   "cell_type": "code",
   "execution_count": 6,
   "id": "6a08b563",
   "metadata": {},
   "outputs": [],
   "source": [
    "def poly_table(x_data, d):\n",
    "    row=x_data.shape[0]\n",
    "    col=int((d*(d-1))/2)\n",
    "    table=np.ones((row, col))\n",
    "    count=0\n",
    "    x1=x_data[:, 0]\n",
    "    x2=x_data[:, 1]\n",
    "    for i in range(d):\n",
    "        for j in range(i):\n",
    "            table[:, count]=(x1**j)*(x2**(i-j))\n",
    "            count+=1\n",
    "    return table"
   ]
  },
  {
   "cell_type": "markdown",
   "id": "7fac48af",
   "metadata": {},
   "source": [
    "#### Degree 2"
   ]
  },
  {
   "cell_type": "code",
   "execution_count": 190,
   "id": "207e6b85",
   "metadata": {},
   "outputs": [],
   "source": [
    "d=2\n",
    "            \n",
    "X_p_tr=poly_table(x_tr,d)\n",
    "Y_p_tr=y_tr\n",
    "\n",
    "X_p_tst=poly_table(x_tst,d)\n",
    "Y_p_tst=y_tst"
   ]
  },
  {
   "cell_type": "code",
   "execution_count": 191,
   "id": "314316ec",
   "metadata": {},
   "outputs": [],
   "source": [
    "model=linear_regression()\n",
    "model.train(X_p_tr, Y_p_tr)"
   ]
  },
  {
   "cell_type": "code",
   "execution_count": 192,
   "id": "454f5edd",
   "metadata": {},
   "outputs": [],
   "source": [
    "model.error(X_p_tr, Y_p_tr)\n",
    "bias=model.err_mse\n",
    "\n",
    "model.error(X_p_tst, Y_p_tst)\n",
    "variance=model.err_mse"
   ]
  },
  {
   "cell_type": "code",
   "execution_count": 193,
   "id": "c9f71c9a",
   "metadata": {},
   "outputs": [
    {
     "name": "stdout",
     "output_type": "stream",
     "text": [
      "1.4082631604719493\n",
      "1.778644165282867\n"
     ]
    }
   ],
   "source": [
    "print(bias)\n",
    "print(variance)"
   ]
  },
  {
   "cell_type": "markdown",
   "id": "f4d74357",
   "metadata": {},
   "source": [
    "#### Degree 3"
   ]
  },
  {
   "cell_type": "code",
   "execution_count": 194,
   "id": "2cf786cf",
   "metadata": {},
   "outputs": [],
   "source": [
    "d=3\n",
    "            \n",
    "X_p_tr=poly_table(x_tr,d)\n",
    "Y_p_tr=y_tr\n",
    "\n",
    "X_p_tst=poly_table(x_tst,d)\n",
    "Y_p_tst=y_tst"
   ]
  },
  {
   "cell_type": "code",
   "execution_count": 195,
   "id": "64734490",
   "metadata": {},
   "outputs": [],
   "source": [
    "model=linear_regression()\n",
    "model.train(X_p_tr, Y_p_tr)"
   ]
  },
  {
   "cell_type": "code",
   "execution_count": 196,
   "id": "55852ea5",
   "metadata": {},
   "outputs": [],
   "source": [
    "model.error(X_p_tr, Y_p_tr)\n",
    "bias=model.err_mse\n",
    "\n",
    "model.error(X_p_tst, Y_p_tst)\n",
    "variance=model.err_mse"
   ]
  },
  {
   "cell_type": "code",
   "execution_count": 197,
   "id": "7aeb8d9f",
   "metadata": {},
   "outputs": [
    {
     "name": "stdout",
     "output_type": "stream",
     "text": [
      "1.41472516142949\n",
      "1.7854348939227949\n"
     ]
    }
   ],
   "source": [
    "print(bias)\n",
    "print(variance)"
   ]
  },
  {
   "cell_type": "markdown",
   "id": "19211f94",
   "metadata": {},
   "source": [
    "#### degree 4"
   ]
  },
  {
   "cell_type": "code",
   "execution_count": 198,
   "id": "aadb2619",
   "metadata": {},
   "outputs": [],
   "source": [
    "d=4\n",
    "            \n",
    "X_p_tr=poly_table(x_tr,d)\n",
    "Y_p_tr=y_tr\n",
    "\n",
    "X_p_tst=poly_table(x_tst,d)\n",
    "Y_p_tst=y_tst"
   ]
  },
  {
   "cell_type": "code",
   "execution_count": 199,
   "id": "e8570673",
   "metadata": {},
   "outputs": [],
   "source": [
    "model=linear_regression()\n",
    "model.train(X_p_tr, Y_p_tr)"
   ]
  },
  {
   "cell_type": "code",
   "execution_count": 200,
   "id": "0913f739",
   "metadata": {},
   "outputs": [],
   "source": [
    "model.error(X_p_tr, Y_p_tr)\n",
    "bias=model.err_mse\n",
    "\n",
    "model.error(X_p_tst, Y_p_tst)\n",
    "variance=model.err_mse"
   ]
  },
  {
   "cell_type": "code",
   "execution_count": 201,
   "id": "eaaeb1a8",
   "metadata": {},
   "outputs": [
    {
     "name": "stdout",
     "output_type": "stream",
     "text": [
      "0.6227146768643841\n",
      "1.9523161352978546\n"
     ]
    }
   ],
   "source": [
    "print(bias)\n",
    "print(variance)"
   ]
  },
  {
   "cell_type": "markdown",
   "id": "e46ccb39",
   "metadata": {},
   "source": [
    "### Bias Variance Curve"
   ]
  },
  {
   "cell_type": "code",
   "execution_count": 202,
   "id": "50b01cd4",
   "metadata": {},
   "outputs": [],
   "source": [
    "model=linear_regression()\n",
    "Bias=[]\n",
    "Variance=[]\n",
    "for d in range(2,20):\n",
    "    X_p_tr=poly_table(x_tr,d)\n",
    "    Y_p_tr=y_tr\n",
    "    X_p_tst=poly_table(x_tst,d)\n",
    "    Y_p_tst=y_tst\n",
    "    \n",
    "    model.train(X_p_tr, Y_p_tr)\n",
    "    \n",
    "    model.error(X_p_tr, Y_p_tr)\n",
    "    bias=model.err_mse\n",
    "    Bias.append(bias)\n",
    "    \n",
    "    model.error(X_p_tst, Y_p_tst)\n",
    "    var=model.err_mse\n",
    "    Variance.append(var)\n",
    "    \n",
    "    \n",
    "    "
   ]
  },
  {
   "cell_type": "code",
   "execution_count": 203,
   "id": "e65f2710",
   "metadata": {},
   "outputs": [
    {
     "data": {
      "text/plain": [
       "<matplotlib.legend.Legend at 0x273d41f60a0>"
      ]
     },
     "execution_count": 203,
     "metadata": {},
     "output_type": "execute_result"
    },
    {
     "data": {
      "image/png": "[encoded data removed]",
      "text/plain": [
       "<Figure size 504x504 with 1 Axes>"
      ]
     },
     "metadata": {
      "needs_background": "light"
     },
     "output_type": "display_data"
    }
   ],
   "source": [
    "d=np.linspace(2,19,18)\n",
    "plt.figure(figsize=(7,7))\n",
    "plt.plot(d[:13],Bias[:13], label=\"Bias\")\n",
    "plt.plot(d[:13], Variance[:13], label=\"Variance\")\n",
    "plt.xlabel(\"degree of polynomial fitting\")\n",
    "plt.ylabel(\"error estimates\")\n",
    "plt.title(\"Bias-Variance Curve for Polynomial function\")\n",
    "plt.legend()"
   ]
  },
  {
   "cell_type": "markdown",
   "id": "85b152e7",
   "metadata": {},
   "source": [
    "Comments: the Bias-Variance Curve resembles the standard curve but bias and variance both become very large for degrees greater than 13, this is probably due to the normalisation that we have applied here"
   ]
  },
  {
   "cell_type": "markdown",
   "id": "dba8c98f",
   "metadata": {},
   "source": [
    "## A different over-parametrised model, output depends on polynomial combination of Gaussian Basis functions"
   ]
  },
  {
   "cell_type": "code",
   "execution_count": 28,
   "id": "0c5ca79a",
   "metadata": {},
   "outputs": [],
   "source": [
    "def gauss_table(x_data, d, s):\n",
    "    x1=x_data[:, 0]*20\n",
    "    x2=x_data[:, 1]*20\n",
    "    row=x_data.shape[0]\n",
    "    col=int((d*(d-1))/2)\n",
    "    table=np.ones((row, col))\n",
    "    count=0\n",
    "    \n",
    "    for i in range(d):\n",
    "        for j in range(i):\n",
    "            table[:, count]=(x1**j)*(x2**(i-j))\n",
    "            mean=np.mean(table[:,count])\n",
    "            sd=np.var(table[:,count])\n",
    "            table[:,count]=np.exp(-((table[:,count]-mean)**2)/(2*sd**2))\n",
    "            count+=1\n",
    "    return table"
   ]
  },
  {
   "cell_type": "markdown",
   "id": "c376d39a",
   "metadata": {},
   "source": [
    "Example Case, d=2"
   ]
  },
  {
   "cell_type": "code",
   "execution_count": 25,
   "id": "35269381",
   "metadata": {},
   "outputs": [],
   "source": [
    "d=2\n",
    "s=1\n",
    "            \n",
    "X_p_tr=gauss_table(x_tr,d,s)\n",
    "Y_p_tr=y_tr\n",
    "\n",
    "X_p_tst=gauss_table(x_tst,d,s)\n",
    "Y_p_tst=y_tst"
   ]
  },
  {
   "cell_type": "code",
   "execution_count": 9,
   "id": "4fe5a0d9",
   "metadata": {},
   "outputs": [],
   "source": [
    "model=linear_regression()\n",
    "model.train(X_p_tr, Y_p_tr)\n",
    "\n",
    "model.error(X_p_tr, Y_p_tr)\n",
    "bias=model.err_mse\n",
    "\n",
    "model.error(X_p_tst, Y_p_tst)\n",
    "variance=model.err_mse"
   ]
  },
  {
   "cell_type": "code",
   "execution_count": 10,
   "id": "846cd531",
   "metadata": {},
   "outputs": [
    {
     "name": "stdout",
     "output_type": "stream",
     "text": [
      "1.6812551852023978\n",
      "0.33218707847583906\n"
     ]
    }
   ],
   "source": [
    "print(bias)\n",
    "print(variance)"
   ]
  },
  {
   "cell_type": "markdown",
   "id": "3feeb9d5",
   "metadata": {},
   "source": [
    "## Bias-Variance Curve"
   ]
  },
  {
   "cell_type": "code",
   "execution_count": 29,
   "id": "9a693f77",
   "metadata": {},
   "outputs": [],
   "source": [
    "model=linear_regression()\n",
    "Bias=[]\n",
    "Variance=[]\n",
    "s=1\n",
    "for d in range(2,10):\n",
    "    X_g_tr=gauss_table(x_tr,d,s)\n",
    "    Y_g_tr=y_tr\n",
    "    X_g_tst=gauss_table(x_tst,d,s)\n",
    "    Y_g_tst=y_tst\n",
    "    \n",
    "    model.train(X_g_tr, Y_g_tr)\n",
    "    \n",
    "    model.error(X_g_tr, Y_g_tr)\n",
    "    bias=model.err_mse\n",
    "    Bias.append(bias)\n",
    "    \n",
    "    model.error(X_g_tst, Y_g_tst)\n",
    "    var=model.err_mse\n",
    "    Variance.append(var)\n",
    "    \n",
    "    "
   ]
  },
  {
   "cell_type": "code",
   "execution_count": 30,
   "id": "cc106ff7",
   "metadata": {},
   "outputs": [
    {
     "data": {
      "text/plain": [
       "<matplotlib.legend.Legend at 0x2391b764250>"
      ]
     },
     "execution_count": 30,
     "metadata": {},
     "output_type": "execute_result"
    },
    {
     "data": {
      "image/png": "[encoded data removed]",
      "text/plain": [
       "<Figure size 504x504 with 1 Axes>"
      ]
     },
     "metadata": {
      "needs_background": "light"
     },
     "output_type": "display_data"
    }
   ],
   "source": [
    "d=np.linspace(2,19,18)\n",
    "plt.figure(figsize=(7,7))\n",
    "plt.plot(d[:6],Bias[:6], label=\"Bias\")\n",
    "plt.plot(d[:6], Variance[:6], label=\"Variance\")\n",
    "plt.xlabel(\"degree of polynomial fitting\")\n",
    "plt.ylabel(\"error estimates\")\n",
    "plt.title(\"Bias-Variance Curve for Gaussian Basis\")\n",
    "plt.legend()"
   ]
  },
  {
   "cell_type": "markdown",
   "id": "980d75e8",
   "metadata": {},
   "source": [
    "Comments: the bias never decreases and the variance also increases in a similar rate"
   ]
  },
  {
   "cell_type": "markdown",
   "id": "25882cf2",
   "metadata": {},
   "source": [
    "## A model where output depends on the sigmoid functions"
   ]
  },
  {
   "cell_type": "code",
   "execution_count": 44,
   "id": "b508ee91",
   "metadata": {},
   "outputs": [],
   "source": [
    "def sig_table(x_data, d, s):\n",
    "    x1=x_data[:, 0]\n",
    "    mean1=np.mean(x1)\n",
    "    var1=np.var(x1)\n",
    "    x1=1/(1+np.exp(-np.abs(x1-mean1)/20*var1))\n",
    "    x2=x_data[:, 1]\n",
    "    mean2=np.mean(x2)\n",
    "    var2=np.var(x2)\n",
    "    x2=1/(1+np.exp(-np.abs(x2-mean2)/20*var2))\n",
    "    row=x_data.shape[0]\n",
    "    col=int((d*(d-1))/2)\n",
    "    table=np.ones((row, col))\n",
    "    count=0\n",
    "    \n",
    "    for i in range(d):\n",
    "        for j in range(i):\n",
    "            table[:, count]=(x1**j)*(x2**(i-j))\n",
    "            #mean=np.mean(table[:,count])\n",
    "            #sd=np.var(table[:,count])\n",
    "            #table[:,count]=1/(1+ np.exp(-np.abs(table[:,count]-mean)/sd))\n",
    "            count+=1\n",
    "    return table"
   ]
  },
  {
   "cell_type": "markdown",
   "id": "652a79a9",
   "metadata": {},
   "source": [
    "## Bias-Variance Curve"
   ]
  },
  {
   "cell_type": "code",
   "execution_count": 55,
   "id": "8ede0616",
   "metadata": {},
   "outputs": [],
   "source": [
    "model=linear_regression()\n",
    "Bias=[]\n",
    "Variance=[]\n",
    "s=1\n",
    "for d in range(2,30):\n",
    "    X_g_tr=sig_table(x_tr,d,s)\n",
    "    Y_g_tr=y_tr\n",
    "    X_g_tst=sig_table(x_tst,d,s)\n",
    "    Y_g_tst=y_tst\n",
    "    \n",
    "    model.train(X_g_tr, Y_g_tr)\n",
    "    \n",
    "    model.error(X_g_tr, Y_g_tr)\n",
    "    bias=model.err_mse\n",
    "    Bias.append(bias)\n",
    "    \n",
    "    model.error(X_g_tst, Y_g_tst)\n",
    "    var=model.err_mse\n",
    "    Variance.append(var)\n",
    "    "
   ]
  },
  {
   "cell_type": "code",
   "execution_count": 66,
   "id": "82a856e0",
   "metadata": {},
   "outputs": [
    {
     "data": {
      "text/plain": [
       "(1.68, 1.7)"
      ]
     },
     "execution_count": 66,
     "metadata": {},
     "output_type": "execute_result"
    },
    {
     "data": {
      "image/png": "[encoded data removed]",
      "text/plain": [
       "<Figure size 504x504 with 1 Axes>"
      ]
     },
     "metadata": {
      "needs_background": "light"
     },
     "output_type": "display_data"
    }
   ],
   "source": [
    "d=np.linspace(2,29,28)\n",
    "plt.figure(figsize=(7,7))\n",
    "plt.plot(d[:28],Bias[:28], label=\"Bias\")\n",
    "plt.plot(d[:28], Variance[:28], label=\"Variance\")\n",
    "plt.xlabel(\"degree of polynomial fitting\")\n",
    "plt.ylabel(\"error estimates\")\n",
    "plt.title(\"Bias-Variance Curve for Sigmoid function\")\n",
    "plt.legend()\n",
    "plt.ylim(1.68,1.7)"
   ]
  },
  {
   "cell_type": "code",
   "execution_count": 68,
   "id": "0d11540d",
   "metadata": {},
   "outputs": [
    {
     "data": {
      "text/plain": [
       "(0.329, 0.332)"
      ]
     },
     "execution_count": 68,
     "metadata": {},
     "output_type": "execute_result"
    },
    {
     "data": {
      "image/png": "[encoded data removed]",
      "text/plain": [
       "<Figure size 504x504 with 1 Axes>"
      ]
     },
     "metadata": {
      "needs_background": "light"
     },
     "output_type": "display_data"
    }
   ],
   "source": [
    "d=np.linspace(2,29,28)\n",
    "plt.figure(figsize=(7,7))\n",
    "plt.plot(d[:28],Bias[:28], label=\"Bias\")\n",
    "plt.plot(d[:28], Variance[:28], label=\"Variance\")\n",
    "plt.xlabel(\"degree of polynomial fitting\")\n",
    "plt.ylabel(\"error estimates\")\n",
    "plt.title(\"Bias-Variance Curve for Sigmoid function\")\n",
    "plt.legend()\n",
    "plt.ylim(0.329,0.332)"
   ]
  },
  {
   "cell_type": "markdown",
   "id": "91bf2ef2",
   "metadata": {},
   "source": [
    "Although the variation is not very visible, individually we cansee bias decreases and variance increases, but saturates."
   ]
  },
  {
   "cell_type": "markdown",
   "id": "fc60fba0",
   "metadata": {},
   "source": [
    "## Applying Normalisation"
   ]
  },
  {
   "cell_type": "markdown",
   "id": "1dc852af",
   "metadata": {},
   "source": [
    "### Polynomial Model"
   ]
  },
  {
   "cell_type": "markdown",
   "id": "f008fe7b",
   "metadata": {},
   "source": [
    "##### L2"
   ]
  },
  {
   "cell_type": "code",
   "execution_count": 72,
   "id": "4aabb9db",
   "metadata": {},
   "outputs": [],
   "source": [
    "model=linear_regression(regu=\"L2\")\n",
    "Bias=[]\n",
    "Variance=[]\n",
    "for d in range(2,20):\n",
    "    X_p_tr=poly_table(x_tr,d)\n",
    "    Y_p_tr=y_tr\n",
    "    X_p_tst=poly_table(x_tst,d)\n",
    "    Y_p_tst=y_tst\n",
    "    \n",
    "    model.train(X_p_tr, Y_p_tr)\n",
    "    \n",
    "    model.error(X_p_tr, Y_p_tr)\n",
    "    bias=model.err_mse\n",
    "    Bias.append(bias)\n",
    "    \n",
    "    model.error(X_p_tst, Y_p_tst)\n",
    "    var=model.err_mse\n",
    "    Variance.append(var)\n",
    "    "
   ]
  },
  {
   "cell_type": "code",
   "execution_count": 73,
   "id": "3a96b23d",
   "metadata": {},
   "outputs": [
    {
     "data": {
      "text/plain": [
       "<matplotlib.legend.Legend at 0x2391bcb1760>"
      ]
     },
     "execution_count": 73,
     "metadata": {},
     "output_type": "execute_result"
    },
    {
     "data": {
      "image/png": "[encoded data removed]",
      "text/plain": [
       "<Figure size 504x504 with 1 Axes>"
      ]
     },
     "metadata": {
      "needs_background": "light"
     },
     "output_type": "display_data"
    }
   ],
   "source": [
    "d=np.linspace(2,19,18)\n",
    "plt.figure(figsize=(7,7))\n",
    "plt.plot(d[:13],Bias[:13], label=\"Bias\")\n",
    "plt.plot(d[:13], Variance[:13], label=\"Variance\")\n",
    "plt.xlabel(\"degree of polynomial fitting\")\n",
    "plt.ylabel(\"error estimates\")\n",
    "plt.title(\"Bias-Variance Curve for Polynomial function\")\n",
    "plt.legend()"
   ]
  },
  {
   "cell_type": "markdown",
   "id": "f97402dd",
   "metadata": {},
   "source": [
    "##### L1"
   ]
  },
  {
   "cell_type": "code",
   "execution_count": 79,
   "id": "5bb57a1b",
   "metadata": {},
   "outputs": [],
   "source": [
    "model=linear_regression(regu=\"L1\")\n",
    "Bias=[]\n",
    "Variance=[]\n",
    "for d in range(2,20):\n",
    "    X_p_tr=poly_table(x_tr,d)\n",
    "    Y_p_tr=y_tr\n",
    "    X_p_tst=poly_table(x_tst,d)\n",
    "    Y_p_tst=y_tst\n",
    "    \n",
    "    model.train(X_p_tr, Y_p_tr)\n",
    "    \n",
    "    model.error(X_p_tr, Y_p_tr)\n",
    "    bias=model.err_mse\n",
    "    Bias.append(bias)\n",
    "    \n",
    "    model.error(X_p_tst, Y_p_tst)\n",
    "    var=model.err_mse\n",
    "    Variance.append(var)\n",
    "    "
   ]
  },
  {
   "cell_type": "code",
   "execution_count": 81,
   "id": "aed95b2b",
   "metadata": {},
   "outputs": [
    {
     "data": {
      "text/plain": [
       "<matplotlib.legend.Legend at 0x2391fe49370>"
      ]
     },
     "execution_count": 81,
     "metadata": {},
     "output_type": "execute_result"
    },
    {
     "data": {
      "image/png": "[encoded data removed]",
      "text/plain": [
       "<Figure size 504x504 with 1 Axes>"
      ]
     },
     "metadata": {
      "needs_background": "light"
     },
     "output_type": "display_data"
    }
   ],
   "source": [
    "d=np.linspace(2,19,18)\n",
    "plt.figure(figsize=(7,7))\n",
    "plt.plot(d[:18],Bias[:18], label=\"Bias\")\n",
    "plt.plot(d[:18], Variance[:18], label=\"Variance\")\n",
    "plt.xlabel(\"degree of polynomial fitting\")\n",
    "plt.ylabel(\"error estimates\")\n",
    "plt.title(\"Bias-Variance Curve for Polynomial function\")\n",
    "plt.legend()"
   ]
  },
  {
   "cell_type": "markdown",
   "id": "6ef603d5",
   "metadata": {},
   "source": [
    "##### L1+L2"
   ]
  },
  {
   "cell_type": "code",
   "execution_count": 82,
   "id": "dcdf94c8",
   "metadata": {},
   "outputs": [],
   "source": [
    "model=linear_regression(regu=\"L1+L2\")\n",
    "Bias=[]\n",
    "Variance=[]\n",
    "for d in range(2,20):\n",
    "    X_p_tr=poly_table(x_tr,d)\n",
    "    Y_p_tr=y_tr\n",
    "    X_p_tst=poly_table(x_tst,d)\n",
    "    Y_p_tst=y_tst\n",
    "    \n",
    "    model.train(X_p_tr, Y_p_tr)\n",
    "    \n",
    "    model.error(X_p_tr, Y_p_tr)\n",
    "    bias=model.err_mse\n",
    "    Bias.append(bias)\n",
    "    \n",
    "    model.error(X_p_tst, Y_p_tst)\n",
    "    var=model.err_mse\n",
    "    Variance.append(var)"
   ]
  },
  {
   "cell_type": "code",
   "execution_count": 83,
   "id": "47519c94",
   "metadata": {},
   "outputs": [
    {
     "data": {
      "text/plain": [
       "<matplotlib.legend.Legend at 0x2391fe29f10>"
      ]
     },
     "execution_count": 83,
     "metadata": {},
     "output_type": "execute_result"
    },
    {
     "data": {
      "image/png": "[encoded data removed]",
      "text/plain": [
       "<Figure size 504x504 with 1 Axes>"
      ]
     },
     "metadata": {
      "needs_background": "light"
     },
     "output_type": "display_data"
    }
   ],
   "source": [
    "d=np.linspace(2,19,18)\n",
    "plt.figure(figsize=(7,7))\n",
    "plt.plot(d[:13],Bias[:13], label=\"Bias\")\n",
    "plt.plot(d[:13], Variance[:13], label=\"Variance\")\n",
    "plt.xlabel(\"degree of polynomial fitting\")\n",
    "plt.ylabel(\"error estimates\")\n",
    "plt.title(\"Bias-Variance Curve for Polynomial function\")\n",
    "plt.legend()"
   ]
  },
  {
   "cell_type": "markdown",
   "id": "cf31a1a5",
   "metadata": {},
   "source": [
    "## Gaussian Basis"
   ]
  },
  {
   "cell_type": "markdown",
   "id": "bce4c28e",
   "metadata": {},
   "source": [
    "##### L2"
   ]
  },
  {
   "cell_type": "code",
   "execution_count": 84,
   "id": "f3ec5bce",
   "metadata": {},
   "outputs": [],
   "source": [
    "model=linear_regression(regu=\"L2\")\n",
    "Bias=[]\n",
    "Variance=[]\n",
    "s=1\n",
    "for d in range(2,10):\n",
    "    X_g_tr=gauss_table(x_tr,d,s)\n",
    "    Y_g_tr=y_tr\n",
    "    X_g_tst=gauss_table(x_tst,d,s)\n",
    "    Y_g_tst=y_tst\n",
    "    \n",
    "    model.train(X_g_tr, Y_g_tr)\n",
    "    \n",
    "    model.error(X_g_tr, Y_g_tr)\n",
    "    bias=model.err_mse\n",
    "    Bias.append(bias)\n",
    "    \n",
    "    model.error(X_g_tst, Y_g_tst)\n",
    "    var=model.err_mse\n",
    "    Variance.append(var)"
   ]
  },
  {
   "cell_type": "code",
   "execution_count": 87,
   "id": "a6c049e0",
   "metadata": {},
   "outputs": [
    {
     "data": {
      "text/plain": [
       "<matplotlib.legend.Legend at 0x2392100a280>"
      ]
     },
     "execution_count": 87,
     "metadata": {},
     "output_type": "execute_result"
    },
    {
     "data": {
      "image/png": "[encoded data removed]",
      "text/plain": [
       "<Figure size 504x504 with 1 Axes>"
      ]
     },
     "metadata": {
      "needs_background": "light"
     },
     "output_type": "display_data"
    }
   ],
   "source": [
    "d=np.linspace(2,19,18)\n",
    "plt.figure(figsize=(7,7))\n",
    "plt.plot(d[:8],Bias[:8], label=\"Bias\")\n",
    "plt.plot(d[:8], Variance[:8], label=\"Variance\")\n",
    "plt.xlabel(\"degree of polynomial fitting\")\n",
    "plt.ylabel(\"error estimates\")\n",
    "plt.title(\"Bias-Variance Curve for Gaussian function\")\n",
    "plt.legend()"
   ]
  },
  {
   "cell_type": "markdown",
   "id": "5980972b",
   "metadata": {},
   "source": [
    "##### L1"
   ]
  },
  {
   "cell_type": "code",
   "execution_count": 88,
   "id": "ce16934d",
   "metadata": {},
   "outputs": [],
   "source": [
    "model=linear_regression(regu=\"L1\")\n",
    "Bias=[]\n",
    "Variance=[]\n",
    "s=1\n",
    "for d in range(2,10):\n",
    "    X_g_tr=gauss_table(x_tr,d,s)\n",
    "    Y_g_tr=y_tr\n",
    "    X_g_tst=gauss_table(x_tst,d,s)\n",
    "    Y_g_tst=y_tst\n",
    "    \n",
    "    model.train(X_g_tr, Y_g_tr)\n",
    "    \n",
    "    model.error(X_g_tr, Y_g_tr)\n",
    "    bias=model.err_mse\n",
    "    Bias.append(bias)\n",
    "    \n",
    "    model.error(X_g_tst, Y_g_tst)\n",
    "    var=model.err_mse\n",
    "    Variance.append(var)"
   ]
  },
  {
   "cell_type": "code",
   "execution_count": 89,
   "id": "f128d37c",
   "metadata": {},
   "outputs": [
    {
     "data": {
      "text/plain": [
       "<matplotlib.legend.Legend at 0x239211fb730>"
      ]
     },
     "execution_count": 89,
     "metadata": {},
     "output_type": "execute_result"
    },
    {
     "data": {
      "image/png": "[encoded data removed]",
      "text/plain": [
       "<Figure size 504x504 with 1 Axes>"
      ]
     },
     "metadata": {
      "needs_background": "light"
     },
     "output_type": "display_data"
    }
   ],
   "source": [
    "d=np.linspace(2,19,18)\n",
    "plt.figure(figsize=(7,7))\n",
    "plt.plot(d[:8],Bias[:8], label=\"Bias\")\n",
    "plt.plot(d[:8], Variance[:8], label=\"Variance\")\n",
    "plt.xlabel(\"degree of polynomial fitting\")\n",
    "plt.ylabel(\"error estimates\")\n",
    "plt.title(\"Bias-Variance Curve for Gaussian function\")\n",
    "plt.legend()"
   ]
  },
  {
   "cell_type": "markdown",
   "id": "61688630",
   "metadata": {},
   "source": [
    "##### L1+L2"
   ]
  },
  {
   "cell_type": "code",
   "execution_count": 90,
   "id": "4befd58b",
   "metadata": {},
   "outputs": [],
   "source": [
    "model=linear_regression(regu=\"L1+L2\")\n",
    "Bias=[]\n",
    "Variance=[]\n",
    "s=1\n",
    "for d in range(2,10):\n",
    "    X_g_tr=gauss_table(x_tr,d,s)\n",
    "    Y_g_tr=y_tr\n",
    "    X_g_tst=gauss_table(x_tst,d,s)\n",
    "    Y_g_tst=y_tst\n",
    "    \n",
    "    model.train(X_g_tr, Y_g_tr)\n",
    "    \n",
    "    model.error(X_g_tr, Y_g_tr)\n",
    "    bias=model.err_mse\n",
    "    Bias.append(bias)\n",
    "    \n",
    "    model.error(X_g_tst, Y_g_tst)\n",
    "    var=model.err_mse\n",
    "    Variance.append(var)"
   ]
  },
  {
   "cell_type": "code",
   "execution_count": 91,
   "id": "b9096c65",
   "metadata": {},
   "outputs": [
    {
     "data": {
      "text/plain": [
       "<matplotlib.legend.Legend at 0x2392109eeb0>"
      ]
     },
     "execution_count": 91,
     "metadata": {},
     "output_type": "execute_result"
    },
    {
     "data": {
      "image/png": "[encoded data removed]",
      "text/plain": [
       "<Figure size 504x504 with 1 Axes>"
      ]
     },
     "metadata": {
      "needs_background": "light"
     },
     "output_type": "display_data"
    }
   ],
   "source": [
    "d=np.linspace(2,19,18)\n",
    "plt.figure(figsize=(7,7))\n",
    "plt.plot(d[:8],Bias[:8], label=\"Bias\")\n",
    "plt.plot(d[:8], Variance[:8], label=\"Variance\")\n",
    "plt.xlabel(\"degree of polynomial fitting\")\n",
    "plt.ylabel(\"error estimates\")\n",
    "plt.title(\"Bias-Variance Curve for Gaussian function\")\n",
    "plt.legend()"
   ]
  },
  {
   "cell_type": "markdown",
   "id": "91bd8252",
   "metadata": {},
   "source": [
    "## Sigmoid Basis Function"
   ]
  },
  {
   "cell_type": "markdown",
   "id": "e8bd3a72",
   "metadata": {},
   "source": [
    "##### L2"
   ]
  },
  {
   "cell_type": "code",
   "execution_count": 92,
   "id": "5d21ceb2",
   "metadata": {},
   "outputs": [],
   "source": [
    "model=linear_regression(regu=\"L2\")\n",
    "Bias=[]\n",
    "Variance=[]\n",
    "s=1\n",
    "for d in range(2,20):\n",
    "    X_g_tr=sig_table(x_tr,d,s)\n",
    "    Y_g_tr=y_tr\n",
    "    X_g_tst=sig_table(x_tst,d,s)\n",
    "    Y_g_tst=y_tst\n",
    "    \n",
    "    model.train(X_g_tr, Y_g_tr)\n",
    "    \n",
    "    model.error(X_g_tr, Y_g_tr)\n",
    "    bias=model.err_mse\n",
    "    Bias.append(bias)\n",
    "    \n",
    "    model.error(X_g_tst, Y_g_tst)\n",
    "    var=model.err_mse\n",
    "    Variance.append(var)"
   ]
  },
  {
   "cell_type": "code",
   "execution_count": 93,
   "id": "350c4c53",
   "metadata": {},
   "outputs": [
    {
     "data": {
      "text/plain": [
       "<matplotlib.legend.Legend at 0x2392108e190>"
      ]
     },
     "execution_count": 93,
     "metadata": {},
     "output_type": "execute_result"
    },
    {
     "data": {
      "image/png": "[encoded data removed]",
      "text/plain": [
       "<Figure size 504x504 with 1 Axes>"
      ]
     },
     "metadata": {
      "needs_background": "light"
     },
     "output_type": "display_data"
    }
   ],
   "source": [
    "d=np.linspace(2,19,18)\n",
    "plt.figure(figsize=(7,7))\n",
    "plt.plot(d[:18],Bias[:18], label=\"Bias\")\n",
    "plt.plot(d[:18], Variance[:18], label=\"Variance\")\n",
    "plt.xlabel(\"degree of polynomial fitting\")\n",
    "plt.ylabel(\"error estimates\")\n",
    "plt.title(\"Bias-Variance Curve for sigmoid function\")\n",
    "plt.legend()"
   ]
  },
  {
   "cell_type": "markdown",
   "id": "3ab24263",
   "metadata": {},
   "source": [
    "##### L1"
   ]
  },
  {
   "cell_type": "code",
   "execution_count": 94,
   "id": "a24a7480",
   "metadata": {},
   "outputs": [],
   "source": [
    "model=linear_regression(regu=\"L1\")\n",
    "Bias=[]\n",
    "Variance=[]\n",
    "s=1\n",
    "for d in range(2,30):\n",
    "    X_g_tr=sig_table(x_tr,d,s)\n",
    "    Y_g_tr=y_tr\n",
    "    X_g_tst=sig_table(x_tst,d,s)\n",
    "    Y_g_tst=y_tst\n",
    "    \n",
    "    model.train(X_g_tr, Y_g_tr)\n",
    "    \n",
    "    model.error(X_g_tr, Y_g_tr)\n",
    "    bias=model.err_mse\n",
    "    Bias.append(bias)\n",
    "    \n",
    "    model.error(X_g_tst, Y_g_tst)\n",
    "    var=model.err_mse\n",
    "    Variance.append(var)"
   ]
  },
  {
   "cell_type": "code",
   "execution_count": 95,
   "id": "4c57bfe1",
   "metadata": {},
   "outputs": [
    {
     "data": {
      "text/plain": [
       "<matplotlib.legend.Legend at 0x239211972e0>"
      ]
     },
     "execution_count": 95,
     "metadata": {},
     "output_type": "execute_result"
    },
    {
     "data": {
      "image/png": "[encoded data removed]",
      "text/plain": [
       "<Figure size 504x504 with 1 Axes>"
      ]
     },
     "metadata": {
      "needs_background": "light"
     },
     "output_type": "display_data"
    }
   ],
   "source": [
    "d=np.linspace(2,19,18)\n",
    "plt.figure(figsize=(7,7))\n",
    "plt.plot(d[:18],Bias[:18], label=\"Bias\")\n",
    "plt.plot(d[:18], Variance[:18], label=\"Variance\")\n",
    "plt.xlabel(\"degree of polynomial fitting\")\n",
    "plt.ylabel(\"error estimates\")\n",
    "plt.title(\"Bias-Variance Curve for sigmoid function\")\n",
    "plt.legend()"
   ]
  },
  {
   "cell_type": "markdown",
   "id": "fc10fe07",
   "metadata": {},
   "source": [
    "##### L1+L2"
   ]
  },
  {
   "cell_type": "code",
   "execution_count": 96,
   "id": "9278471c",
   "metadata": {},
   "outputs": [],
   "source": [
    "model=linear_regression(regu=\"L1+L2\")\n",
    "Bias=[]\n",
    "Variance=[]\n",
    "s=1\n",
    "for d in range(2,30):\n",
    "    X_g_tr=sig_table(x_tr,d,s)\n",
    "    Y_g_tr=y_tr\n",
    "    X_g_tst=sig_table(x_tst,d,s)\n",
    "    Y_g_tst=y_tst\n",
    "    \n",
    "    model.train(X_g_tr, Y_g_tr)\n",
    "    \n",
    "    model.error(X_g_tr, Y_g_tr)\n",
    "    bias=model.err_mse\n",
    "    Bias.append(bias)\n",
    "    \n",
    "    model.error(X_g_tst, Y_g_tst)\n",
    "    var=model.err_mse\n",
    "    Variance.append(var)\n",
    "    "
   ]
  },
  {
   "cell_type": "code",
   "execution_count": 97,
   "id": "4fd81a30",
   "metadata": {},
   "outputs": [
    {
     "data": {
      "text/plain": [
       "<matplotlib.legend.Legend at 0x23921243f70>"
      ]
     },
     "execution_count": 97,
     "metadata": {},
     "output_type": "execute_result"
    },
    {
     "data": {
      "image/png": "[encoded data removed]",
      "text/plain": [
       "<Figure size 504x504 with 1 Axes>"
      ]
     },
     "metadata": {
      "needs_background": "light"
     },
     "output_type": "display_data"
    }
   ],
   "source": [
    "d=np.linspace(2,19,18)\n",
    "plt.figure(figsize=(7,7))\n",
    "plt.plot(d[:18],Bias[:18], label=\"Bias\")\n",
    "plt.plot(d[:18], Variance[:18], label=\"Variance\")\n",
    "plt.xlabel(\"degree of polynomial fitting\")\n",
    "plt.ylabel(\"error estimates\")\n",
    "plt.title(\"Bias-Variance Curve for sigmoid function\")\n",
    "plt.legend()"
   ]
  },
  {
   "cell_type": "markdown",
   "id": "5a2e90ed",
   "metadata": {},
   "source": [
    "#### The models do not work properly for sigmoid and gaussian basis functions. This is because the non linear behaviour of the model and also, in the sigmoid basis function example, the bias does decrease and the variance does increase but the saturation is very close to the starting value and that is why it is not aspparent in the current graphs, if we plot two separate graphs such as in teh un-regularised case, then we might see the trend better."
   ]
  },
  {
   "cell_type": "code",
   "execution_count": null,
   "id": "87e136b0",
   "metadata": {},
   "outputs": [],
   "source": []
  }
 ],
 "metadata": {
  "kernelspec": {
   "display_name": "Python 3 (ipykernel)",
   "language": "python",
   "name": "python3"
  },
  "language_info": {
   "codemirror_mode": {
    "name": "ipython",
    "version": 3
   },
   "file_extension": ".py",
   "mimetype": "text/x-python",
   "name": "python",
   "nbconvert_exporter": "python",
   "pygments_lexer": "ipython3",
   "version": "3.9.12"
  }
 },
 "nbformat": 4,
 "nbformat_minor": 5
}
