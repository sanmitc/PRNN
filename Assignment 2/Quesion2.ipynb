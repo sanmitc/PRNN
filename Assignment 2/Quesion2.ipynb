{
 "cells": [
  {
   "cell_type": "markdown",
   "id": "a48b8ed2",
   "metadata": {},
   "source": [
    "# Q2"
   ]
  },
  {
   "cell_type": "code",
   "execution_count": 1,
   "id": "57265abe",
   "metadata": {},
   "outputs": [],
   "source": [
    "import numpy as np\n",
    "import matplotlib.pyplot as plt\n",
    "import math\n",
    "import libsvm\n",
    "import csv\n",
    "from csv import reader\n",
    "\n",
    "def read_csv(upload):\n",
    "    data = []\n",
    "    file = open(upload,'r')\n",
    "    r = reader(file)\n",
    "    for row in r:\n",
    "        data.append(row)\n",
    "\n",
    "    return data\n",
    "\n",
    "upload = \"p3_train.csv\"\n",
    "data = read_csv(upload)\n",
    "\n",
    "#Convert the matrix into a float\n",
    "data=np.array(data).astype(np.float64)\n",
    "\n",
    "#Extract the last column as the target variable\n",
    "target=data[:,-1].astype(np.int64)\n",
    "#deleting the last column from the data and appending a column of 1s infront of it. \n",
    "data=data[:,:-1]\n",
    "#one=np.ones((data.shape[0], 1))\n",
    "#data=np.hstack((one,data))\n",
    "col=data.shape[1]\n"
   ]
  },
  {
   "cell_type": "markdown",
   "id": "4428ada7",
   "metadata": {},
   "source": [
    "### Making $S_w$"
   ]
  },
  {
   "cell_type": "code",
   "execution_count": 2,
   "id": "70798eaa",
   "metadata": {},
   "outputs": [],
   "source": [
    "#Making S_k:\n",
    "y=np.unique(target)\n",
    "labels=len(y)\n",
    "#dimension of each x is given by col\n",
    "S_w=np.zeros((col, col))\n",
    "for ele in y:\n",
    "    x=data[target==ele]\n",
    "    row=x.shape[0]\n",
    "    total=np.sum(x, axis=0)\n",
    "    mean=total/row\n",
    "    x=x-mean\n",
    "    #iterating over the rows\n",
    "    for i in range(row):\n",
    "        x_row=np.matrix(x[i])\n",
    "        S_w=np.add(S_w,x_row.T@x_row)"
   ]
  },
  {
   "cell_type": "code",
   "execution_count": 3,
   "id": "a5649497",
   "metadata": {},
   "outputs": [
    {
     "name": "stdout",
     "output_type": "stream",
     "text": [
      "[[ 8.60659307e+04  1.48386889e+04 -1.22993003e+02  1.76776165e+01\n",
      "   2.97131802e+01 -4.39504739e+02 -1.63399371e+02  1.10038030e+02\n",
      "  -1.79089413e+02 -5.74239888e+02]\n",
      " [ 1.48386889e+04  8.60873179e+04  2.99030878e+02 -7.54662431e+02\n",
      "  -1.97959350e+02 -8.63857580e+01 -7.87073407e+02 -3.86881468e+02\n",
      "  -2.35914652e+02 -3.54971097e+02]\n",
      " [-1.22993003e+02  2.99030878e+02  8.39758768e+04  1.28137269e+04\n",
      "   2.23346650e+02 -1.88445678e+02 -2.33420473e+02  4.65091538e+02\n",
      "  -4.70565324e+01  2.01374244e+01]\n",
      " [ 1.76776165e+01 -7.54662431e+02  1.28137269e+04  8.48972923e+04\n",
      "   1.41776812e+02  2.56846472e+02 -2.07676949e+02 -8.96582919e+01\n",
      "   2.13273077e+02 -4.73112938e+02]\n",
      " [ 2.97131802e+01 -1.97959350e+02  2.23346650e+02  1.41776812e+02\n",
      "   8.58495362e+04  1.48293089e+04  2.67750555e+02 -3.42214873e+02\n",
      "   3.22705583e+01  2.66050937e+02]\n",
      " [-4.39504739e+02 -8.63857580e+01 -1.88445678e+02  2.56846472e+02\n",
      "   1.48293089e+04  8.65592444e+04 -3.56945956e+02 -7.48758234e+01\n",
      "  -2.93865025e+02 -2.38250681e+01]\n",
      " [-1.63399371e+02 -7.87073407e+02 -2.33420473e+02 -2.07676949e+02\n",
      "   2.67750555e+02 -3.56945956e+02  8.72310867e+04  1.58285298e+04\n",
      "   2.68807485e+01  3.73315837e+02]\n",
      " [ 1.10038030e+02 -3.86881468e+02  4.65091538e+02 -8.96582919e+01\n",
      "  -3.42214873e+02 -7.48758234e+01  1.58285298e+04  8.68619878e+04\n",
      "  -1.67533617e+02  1.79556109e+02]\n",
      " [-1.79089413e+02 -2.35914652e+02 -4.70565324e+01  2.13273077e+02\n",
      "   3.22705583e+01 -2.93865025e+02  2.68807485e+01 -1.67533617e+02\n",
      "   8.38227697e+04  1.20481037e+04]\n",
      " [-5.74239888e+02 -3.54971097e+02  2.01374244e+01 -4.73112938e+02\n",
      "   2.66050937e+02 -2.38250681e+01  3.73315837e+02  1.79556109e+02\n",
      "   1.20481037e+04  8.46541805e+04]]\n"
     ]
    }
   ],
   "source": [
    "print(S_w)"
   ]
  },
  {
   "cell_type": "markdown",
   "id": "0dce1381",
   "metadata": {},
   "source": [
    "### Making $S_B$"
   ]
  },
  {
   "cell_type": "code",
   "execution_count": 4,
   "id": "d7835115",
   "metadata": {},
   "outputs": [
    {
     "name": "stdout",
     "output_type": "stream",
     "text": [
      "12029\n",
      "12019\n",
      "11960\n",
      "12025\n",
      "11967\n"
     ]
    }
   ],
   "source": [
    "#making S_B\n",
    "y=np.unique(target)\n",
    "labels=len(y)\n",
    "#dimension of each x is given by col\n",
    "S_b=np.zeros((col, col))\n",
    "r=data.shape[0]\n",
    "m=np.sum(data, axis=0)/r\n",
    "for ele in y:\n",
    "    x=data[target==ele]\n",
    "    row=x.shape[0]\n",
    "    total=np.sum(x, axis=0)\n",
    "    mean=total/row\n",
    "    diff=np.matrix(mean-m)\n",
    "    S_b=np.add(S_b, row*diff.T@diff)"
   ]
  },
  {
   "cell_type": "code",
   "execution_count": 5,
   "id": "4817ff42",
   "metadata": {},
   "outputs": [
    {
     "name": "stdout",
     "output_type": "stream",
     "text": [
      "[[  413.55288675  2398.81341744  -191.00688744  -843.2235489\n",
      "   -288.41224534  -714.02508799  -253.2376661   -755.33463055\n",
      "   -190.1822563   -620.63999631]\n",
      " [ 2398.81341744 13958.92938893  -903.46720098 -4169.68293755\n",
      "  -1970.48299284 -4889.56802782 -1412.56196092 -4186.27730948\n",
      "  -1199.61429726 -3950.80885235]\n",
      " [ -191.00688744  -903.46720098  1418.98493616  5117.20890349\n",
      "   -644.35180998 -1660.74017401  -526.94348611 -1362.07056804\n",
      "   -408.58370553 -1455.43363529]\n",
      " [ -843.2235489  -4169.68293755  5117.20890349 18530.20964325\n",
      "  -2250.0339793  -5797.1121655  -1886.51594773 -4887.95211345\n",
      "  -1248.58198773 -4459.00100952]\n",
      " [ -288.41224534 -1970.48299284  -644.35180998 -2250.0339793\n",
      "   4632.08625628 11459.60293279  -916.35435061 -2699.20458094\n",
      "   -623.83809388 -2203.37477281]\n",
      " [ -714.02508799 -4889.56802782 -1660.74017401 -5797.1121655\n",
      "  11459.60293279 28356.37147602 -2275.22118234 -6715.36481494\n",
      "  -1466.2661316  -5173.70010571]\n",
      " [ -253.2376661  -1412.56196092  -526.94348611 -1886.51594773\n",
      "   -916.35435061 -2275.22118234  2542.79085865  7455.69182606\n",
      "   -405.67019055 -1655.21627625]\n",
      " [ -755.33463055 -4186.27730948 -1362.07056804 -4887.95211345\n",
      "  -2699.20458094 -6715.36481494  7455.69182606 21894.04114388\n",
      "  -1352.28368472 -5439.537173  ]\n",
      " [ -190.1822563  -1199.61429726  -408.58370553 -1248.58198773\n",
      "   -623.83809388 -1466.2661316   -405.67019055 -1352.28368472\n",
      "   1409.01093815  5065.23144491]\n",
      " [ -620.63999631 -3950.80885235 -1455.43363529 -4459.00100952\n",
      "  -2203.37477281 -5173.70010571 -1655.21627625 -5439.537173\n",
      "   5065.23144491 18229.06178528]]\n"
     ]
    }
   ],
   "source": [
    "print(S_b)"
   ]
  },
  {
   "cell_type": "code",
   "execution_count": 8,
   "id": "fa99c37f",
   "metadata": {},
   "outputs": [],
   "source": [
    "Matrix= np.linalg.inv(S_w)@S_b"
   ]
  },
  {
   "cell_type": "code",
   "execution_count": 10,
   "id": "d6c3c9f4",
   "metadata": {},
   "outputs": [],
   "source": [
    "weight=np.linalg.eigh(Matrix)"
   ]
  },
  {
   "cell_type": "code",
   "execution_count": 14,
   "id": "ddcfae6c",
   "metadata": {},
   "outputs": [
    {
     "name": "stdout",
     "output_type": "stream",
     "text": [
      "[[-0.28069897  0.10804409  0.27549724  0.0202752  -0.00066958 -0.30653212\n",
      "   0.34697048 -0.62252573  0.4655056  -0.12099626]]\n"
     ]
    }
   ],
   "source": [
    "print(weight[1][9])"
   ]
  }
 ],
 "metadata": {
  "kernelspec": {
   "display_name": "Python 3 (ipykernel)",
   "language": "python",
   "name": "python3"
  },
  "language_info": {
   "codemirror_mode": {
    "name": "ipython",
    "version": 3
   },
   "file_extension": ".py",
   "mimetype": "text/x-python",
   "name": "python",
   "nbconvert_exporter": "python",
   "pygments_lexer": "ipython3",
   "version": "3.9.12"
  }
 },
 "nbformat": 4,
 "nbformat_minor": 5
}
