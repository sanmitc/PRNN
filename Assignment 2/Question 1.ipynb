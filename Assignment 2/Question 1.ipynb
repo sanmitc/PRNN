{
 "cells": [
  {
   "cell_type": "markdown",
   "id": "bff6ae26",
   "metadata": {},
   "source": [
    "# Q1"
   ]
  },
  {
   "cell_type": "code",
   "execution_count": 5,
   "id": "57265abe",
   "metadata": {},
   "outputs": [],
   "source": [
    "import numpy as np\n",
    "import matplotlib.pyplot as plt\n",
    "import math\n",
    "import libsvm\n",
    "import csv\n",
    "from csv import reader\n",
    "from libsvm.svmutil import *\n",
    "\n",
    "def read_csv(upload):\n",
    "    x=[]\n",
    "    y=[]\n",
    "    file = open(upload,'r')\n",
    "    r = reader(file)\n",
    "    for row in r:\n",
    "        x.append(row[:-1])\n",
    "        y.append(row[-1])\n",
    "\n",
    "    return [x,y]\n",
    "\n",
    "upload = \"p3_train.csv\"\n",
    "data = read_csv(upload)\n",
    "\n",
    "#Convert the matrix into a float\n",
    "#data=array(data)\n",
    "\n",
    "#Extract the last column as the target variable\n",
    "#y_train=data[:,-1]\n",
    "#deleting the last column from the data and appending a column of 1s infront of it. \n",
    "#x_train=data[:,:-1]\n",
    "#one=np.ones((data.shape[0], 1))\n",
    "#data=np.hstack((one,data))\n",
    "#col=data.shape[1]\n",
    "\n",
    "y_train=data[1]\n",
    "x_train=data[0]\n",
    "\n",
    "L=len(y_train)\n",
    "for i in range(L):\n",
    "    y_train[i]=float(y_train[i])\n",
    "    y_train[i]=int(y_train[i])\n",
    "    \n",
    "for row in x_train:\n",
    "    l=len(row)\n",
    "    for idx in range(l):\n",
    "        row[idx]=float(row[idx])"
   ]
  },
  {
   "cell_type": "code",
   "execution_count": 6,
   "id": "f1c46213",
   "metadata": {},
   "outputs": [],
   "source": [
    "y_tr=y_train[:10000]\n",
    "x_tr=x_train[:10000]"
   ]
  },
  {
   "cell_type": "code",
   "execution_count": 7,
   "id": "fd967ef6",
   "metadata": {},
   "outputs": [],
   "source": [
    "upload = \"p3_test.csv\"\n",
    "data_test = read_csv(upload)\n",
    "\n",
    "y_test=data_test[1]\n",
    "x_test=data_test[0]\n",
    "\n",
    "L=len(y_test)\n",
    "for i in range(L):\n",
    "    y_test[i]=float(y_test[i])\n",
    "    y_test[i]=int(y_test[i])\n",
    "    \n",
    "for row in x_test:\n",
    "    l=len(row)\n",
    "    for idx in range(l):\n",
    "        row[idx]=float(row[idx])"
   ]
  },
  {
   "cell_type": "markdown",
   "id": "558694c0",
   "metadata": {},
   "source": [
    "Examples of options: -s 0 -c 10 -t 1 -g 1 -r 1 -d 3\n",
    "Classify a binary data with polynomial kernel $(u'v+1)^3$ and C = 10\n",
    "\n",
    " \n",
    "options:\n",
    "\n",
    "-s svm_type : set type of SVM (default 0)\n",
    "\n",
    "\t0 -- C-SVC\n",
    "    \n",
    "\t1 -- nu-SVC\n",
    "    \n",
    "\t2 -- one-class SVM\n",
    "    \n",
    "\t3 -- epsilon-SVR\n",
    "    \n",
    "\t4 -- nu-SVR\n",
    "    \n",
    "-t kernel_type : set type of kernel function (default 2)\n",
    "\n",
    "\t0 -- linear: u'*v\n",
    "    \n",
    "\t1 -- polynomial: (gamma*u'*v + coef0)^degree\n",
    "    \n",
    "\t2 -- radial basis function: exp(-gamma*|u-v|^2)\n",
    "    \n",
    "\t3 -- sigmoid: tanh(gamma*u'*v + coef0)\n",
    "    \n",
    "-d degree : set degree in kernel function (default 3)\n",
    "\n",
    "-g gamma : set gamma in kernel function (default 1/num_features)\n",
    "\n",
    "-r coef0 : set coef0 in kernel function (default 0)\n",
    "\n",
    "-c cost : set the parameter C of C-SVC, epsilon-SVR, and nu-SVR (default 1)\n",
    "\n",
    "-n nu : set the parameter nu of nu-SVC, one-class SVM, and nu-SVR (default 0.5)\n",
    "\n",
    "-p epsilon : set the epsilon in loss function of epsilon-SVR (default 0.1)\n",
    "\n",
    "-m cachesize : set cache memory size in MB (default 100)\n",
    "\n",
    "-e epsilon : set tolerance of termination criterion (default 0.001)\n",
    "\n",
    "-h shrinking: whether to use the shrinking heuristics, 0 or 1 (default 1)\n",
    "\n",
    "-b probability_estimates: whether to train a SVC or SVR model for probability estimates, 0 or 1 (default 0)\n",
    "\n",
    "-wi weight: set the parameter C of class i to weight*C, for C-SVC (default 1)\n",
    "\n",
    "The k in the -g option means the number of attributes in the input data."
   ]
  },
  {
   "cell_type": "code",
   "execution_count": 8,
   "id": "cba5d59c",
   "metadata": {},
   "outputs": [],
   "source": [
    "prob  = svm_problem(y_tr, x_tr)\n",
    "param = svm_parameter('-s 0 -t 0 -c 4 -d 3')\n",
    "m = svm_train(prob, param)"
   ]
  },
  {
   "cell_type": "code",
   "execution_count": 9,
   "id": "88798b93",
   "metadata": {},
   "outputs": [
    {
     "name": "stdout",
     "output_type": "stream",
     "text": [
      "Accuracy = 56.52% (8478/15000) (classification)\n"
     ]
    }
   ],
   "source": [
    "p_label, p_acc, p_val = svm_predict(y_test, x_test, m)"
   ]
  },
  {
   "cell_type": "code",
   "execution_count": 18,
   "id": "fffae4f6",
   "metadata": {},
   "outputs": [],
   "source": [
    "l_p=len(p_label)\n",
    "for i in range(l_p):\n",
    "    p_label[i]=int(p_label[i])"
   ]
  },
  {
   "cell_type": "code",
   "execution_count": 19,
   "id": "e242118f",
   "metadata": {},
   "outputs": [
    {
     "name": "stdout",
     "output_type": "stream",
     "text": [
      "[[1580.  387.  245.  366.  393.]\n",
      " [ 417. 1645.  268.  290.  361.]\n",
      " [ 351.  313. 1779.  279.  318.]\n",
      " [ 399.  330.  228. 1708.  310.]\n",
      " [ 379.  313.  232.  343. 1766.]]\n"
     ]
    }
   ],
   "source": [
    "labels=len(np.unique(y_test))\n",
    "c_mat=np.zeros((labels, labels))\n",
    "l=len(y_test)\n",
    "for i in range(l):\n",
    "    c_mat[y_test[i]-1][p_label[i]-1]+=1\n",
    "print(c_mat)\n"
   ]
  },
  {
   "cell_type": "code",
   "execution_count": 34,
   "id": "1f355de5",
   "metadata": {
    "scrolled": true
   },
   "outputs": [
    {
     "name": "stdout",
     "output_type": "stream",
     "text": [
      "F_score is: [0.5182876824667869, 0.5511811023622047, 0.6142955801104971, 0.5730582117094447, 0.5714285714285714]\n",
      "precision is: [0.5054382597568778, 0.5505354752342704, 0.6464389534883721, 0.5720026791694575, 0.5609911054637865]\n",
      "Recall is: [0.5318074722315719, 0.5518282455551828, 0.5851973684210526, 0.5741176470588235, 0.5822617870095614]\n"
     ]
    }
   ],
   "source": [
    "F_s=[]\n",
    "precision=[]\n",
    "rec=[]\n",
    "for i in range(labels):\n",
    "    prec=c_mat[i][i]/np.sum(c_mat[:,i])\n",
    "    recall=c_mat[i][i]/np.sum(c_mat[i])\n",
    "    f= (2*prec*recall)/(prec+recall)\n",
    "    precision.append(prec)\n",
    "    rec.append(recall)\n",
    "    F_s.append(f)\n",
    "\n",
    "print(\"F_score is:\", F_s)\n",
    "print(\"precision is:\", precision)\n",
    "print(\"Recall is:\", rec)"
   ]
  },
  {
   "cell_type": "markdown",
   "id": "44e313fd",
   "metadata": {},
   "source": [
    "### Now, fitting with polynomial functions"
   ]
  },
  {
   "cell_type": "markdown",
   "id": "9beeaf50",
   "metadata": {},
   "source": [
    "##### Polynomial of degree 3"
   ]
  },
  {
   "cell_type": "code",
   "execution_count": 21,
   "id": "82a13165",
   "metadata": {},
   "outputs": [],
   "source": [
    "prob  = svm_problem(y_tr, x_tr)\n",
    "param = svm_parameter('-s 0 -t 1 -c 4 -d 3')\n",
    "m = svm_train(prob, param)"
   ]
  },
  {
   "cell_type": "code",
   "execution_count": 22,
   "id": "03a37abe",
   "metadata": {},
   "outputs": [
    {
     "name": "stdout",
     "output_type": "stream",
     "text": [
      "Accuracy = 55.2733% (8291/15000) (classification)\n"
     ]
    }
   ],
   "source": [
    "p_label, p_acc, p_val = svm_predict(y_test, x_test, m)"
   ]
  },
  {
   "cell_type": "markdown",
   "id": "82d3455f",
   "metadata": {},
   "source": [
    "##### Polynomial of degree 5"
   ]
  },
  {
   "cell_type": "code",
   "execution_count": 28,
   "id": "efbbe593",
   "metadata": {},
   "outputs": [],
   "source": [
    "prob1  = svm_problem(y_tr, x_tr)\n",
    "param1 = svm_parameter('-s 0 -t 1 -c 4 -d 5')\n",
    "m1 = svm_train(prob1, param1)"
   ]
  },
  {
   "cell_type": "code",
   "execution_count": 29,
   "id": "bf890ec5",
   "metadata": {},
   "outputs": [
    {
     "name": "stdout",
     "output_type": "stream",
     "text": [
      "Accuracy = 46.8% (7020/15000) (classification)\n"
     ]
    }
   ],
   "source": [
    "p_label, p_acc, p_val = svm_predict(y_test, x_test, m1)"
   ]
  },
  {
   "cell_type": "markdown",
   "id": "de547e9c",
   "metadata": {},
   "source": [
    "##### Increasing the cost of misclassification"
   ]
  },
  {
   "cell_type": "code",
   "execution_count": 31,
   "id": "3ff0ee3a",
   "metadata": {},
   "outputs": [],
   "source": [
    "prob2  = svm_problem(y_tr, x_tr)\n",
    "param2 = svm_parameter('-s 0 -t 1 -c 50 -d 3')\n",
    "m2 = svm_train(prob2, param2)"
   ]
  },
  {
   "cell_type": "code",
   "execution_count": 35,
   "id": "eb89014f",
   "metadata": {},
   "outputs": [
    {
     "name": "stdout",
     "output_type": "stream",
     "text": [
      "Accuracy = 55.0733% (8261/15000) (classification)\n"
     ]
    }
   ],
   "source": [
    "p_label, p_acc, p_val = svm_predict(y_test, x_test, m2)"
   ]
  },
  {
   "cell_type": "markdown",
   "id": "12c8584d",
   "metadata": {},
   "source": [
    "Increasing the cost takes significantly longer time. Trying with 2nd degree polynomial."
   ]
  },
  {
   "cell_type": "code",
   "execution_count": 36,
   "id": "6092a45d",
   "metadata": {},
   "outputs": [],
   "source": [
    "prob3  = svm_problem(y_tr, x_tr)\n",
    "param3 = svm_parameter('-s 0 -t 1 -c 5 -d 2')\n",
    "m3 = svm_train(prob3, param3)"
   ]
  },
  {
   "cell_type": "code",
   "execution_count": 37,
   "id": "7bf77b3d",
   "metadata": {},
   "outputs": [
    {
     "name": "stdout",
     "output_type": "stream",
     "text": [
      "Accuracy = 51.4267% (7714/15000) (classification)\n"
     ]
    }
   ],
   "source": [
    "p_label, p_acc, p_val = svm_predict(y_test, x_test, m3)"
   ]
  },
  {
   "cell_type": "markdown",
   "id": "a1426901",
   "metadata": {},
   "source": [
    "### Trying with RBF kernel"
   ]
  },
  {
   "cell_type": "code",
   "execution_count": 38,
   "id": "9890e674",
   "metadata": {},
   "outputs": [],
   "source": [
    "prob4  = svm_problem(y_tr, x_tr)\n",
    "param4 = svm_parameter('-s 0 -t 2 -c 5')\n",
    "m4 = svm_train(prob4, param4)"
   ]
  },
  {
   "cell_type": "code",
   "execution_count": 39,
   "id": "c2622ca0",
   "metadata": {},
   "outputs": [
    {
     "name": "stdout",
     "output_type": "stream",
     "text": [
      "Accuracy = 55.44% (8316/15000) (classification)\n"
     ]
    }
   ],
   "source": [
    "p_label, p_acc, p_val = svm_predict(y_test, x_test, m4)"
   ]
  },
  {
   "cell_type": "markdown",
   "id": "cb26ac2c",
   "metadata": {},
   "source": [
    "### Sigmoid Kernel"
   ]
  },
  {
   "cell_type": "code",
   "execution_count": 40,
   "id": "9906b013",
   "metadata": {},
   "outputs": [],
   "source": [
    "prob5  = svm_problem(y_tr, x_tr)\n",
    "param5 = svm_parameter('-s 0 -t 3 -c 5')\n",
    "m5 = svm_train(prob5, param5)"
   ]
  },
  {
   "cell_type": "code",
   "execution_count": 41,
   "id": "e2a730d2",
   "metadata": {},
   "outputs": [
    {
     "name": "stdout",
     "output_type": "stream",
     "text": [
      "Accuracy = 32.5533% (4883/15000) (classification)\n"
     ]
    }
   ],
   "source": [
    "p_label, p_acc, p_val = svm_predict(y_test, x_test, m5)"
   ]
  },
  {
   "cell_type": "markdown",
   "id": "02b58c00",
   "metadata": {},
   "source": [
    "Bad accuracy."
   ]
  },
  {
   "cell_type": "markdown",
   "id": "4cd6d663",
   "metadata": {},
   "source": [
    "##### Reducing the cost to low, to allow slacked formulation"
   ]
  },
  {
   "cell_type": "code",
   "execution_count": 10,
   "id": "68b083f2",
   "metadata": {},
   "outputs": [],
   "source": [
    "prob6  = svm_problem(y_tr, x_tr)\n",
    "param6 = svm_parameter('-s 0 -t 0 -c 0.5')\n",
    "m6 = svm_train(prob6, param6)"
   ]
  },
  {
   "cell_type": "code",
   "execution_count": 11,
   "id": "9dc2241c",
   "metadata": {},
   "outputs": [
    {
     "name": "stdout",
     "output_type": "stream",
     "text": [
      "Accuracy = 56.5467% (8482/15000) (classification)\n"
     ]
    }
   ],
   "source": [
    "p_label, p_acc, p_val = svm_predict(y_test, x_test, m6)"
   ]
  },
  {
   "cell_type": "code",
   "execution_count": 13,
   "id": "dc43cd69",
   "metadata": {},
   "outputs": [],
   "source": [
    "prob7  = svm_problem(y_tr, x_tr)\n",
    "param7 = svm_parameter('-s 0 -t 0 -c 0.1')\n",
    "m7 = svm_train(prob7, param7)"
   ]
  },
  {
   "cell_type": "code",
   "execution_count": 14,
   "id": "a245759c",
   "metadata": {},
   "outputs": [
    {
     "name": "stdout",
     "output_type": "stream",
     "text": [
      "Accuracy = 56.5867% (8488/15000) (classification)\n"
     ]
    }
   ],
   "source": [
    "p_label, p_acc, p_val = svm_predict(y_test, x_test, m7)"
   ]
  },
  {
   "cell_type": "code",
   "execution_count": 17,
   "id": "ec64fcdb",
   "metadata": {},
   "outputs": [],
   "source": [
    "prob8  = svm_problem(y_tr, x_tr)\n",
    "param8 = svm_parameter('-s 0 -t 0 -c 0.0001')\n",
    "m8 = svm_train(prob8, param8)"
   ]
  },
  {
   "cell_type": "code",
   "execution_count": 18,
   "id": "8feef991",
   "metadata": {},
   "outputs": [
    {
     "name": "stdout",
     "output_type": "stream",
     "text": [
      "Accuracy = 56.3733% (8456/15000) (classification)\n"
     ]
    }
   ],
   "source": [
    "p_label, p_acc, p_val = svm_predict(y_test, x_test, m8)"
   ]
  }
 ],
 "metadata": {
  "kernelspec": {
   "display_name": "Python 3 (ipykernel)",
   "language": "python",
   "name": "python3"
  },
  "language_info": {
   "codemirror_mode": {
    "name": "ipython",
    "version": 3
   },
   "file_extension": ".py",
   "mimetype": "text/x-python",
   "name": "python",
   "nbconvert_exporter": "python",
   "pygments_lexer": "ipython3",
   "version": "3.9.12"
  }
 },
 "nbformat": 4,
 "nbformat_minor": 5
}
