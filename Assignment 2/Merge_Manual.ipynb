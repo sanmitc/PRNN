{
 "cells": [
  {
   "cell_type": "code",
   "execution_count": 1,
   "id": "c6f29d99",
   "metadata": {},
   "outputs": [],
   "source": [
    "import json"
   ]
  },
  {
   "cell_type": "code",
   "execution_count": 2,
   "id": "9b4052be",
   "metadata": {},
   "outputs": [],
   "source": [
    "def read_ipynb(notebook_path):\n",
    "    with open(notebook_path, 'r', encoding='utf-8') as f:\n",
    "        return json.load(f)"
   ]
  },
  {
   "cell_type": "code",
   "execution_count": 10,
   "id": "02203695",
   "metadata": {},
   "outputs": [],
   "source": [
    "first_notebook = read_ipynb('Question 1.ipynb')\n",
    "second_notebook = read_ipynb('Quesion2.ipynb')\n",
    "third_notebook =read_ipynb('Question 3.ipynb')\n",
    "\n",
    "Final=read_ipynb('Final_Q1_3.ipynb')"
   ]
  },
  {
   "cell_type": "code",
   "execution_count": 12,
   "id": "fc15f16e",
   "metadata": {},
   "outputs": [],
   "source": [
    "Final['cells'] = first_notebook['cells'] + second_notebook['cells'] + third_notebook['cells']"
   ]
  },
  {
   "cell_type": "code",
   "execution_count": 13,
   "id": "454f6fcb",
   "metadata": {},
   "outputs": [],
   "source": [
    "def write_ipynb(notebook, notebook_path):\n",
    "    with open(notebook_path, 'w', encoding='utf-8') as f:\n",
    "        json.dump(notebook, f)\n",
    "\n",
    "# Saving the resulting notebook\n",
    "write_ipynb(Final, 'final_notebook.ipynb')"
   ]
  }
 ],
 "metadata": {
  "kernelspec": {
   "display_name": "Python 3 (ipykernel)",
   "language": "python",
   "name": "python3"
  },
  "language_info": {
   "codemirror_mode": {
    "name": "ipython",
    "version": 3
   },
   "file_extension": ".py",
   "mimetype": "text/x-python",
   "name": "python",
   "nbconvert_exporter": "python",
   "pygments_lexer": "ipython3",
   "version": "3.9.12"
  }
 },
 "nbformat": 4,
 "nbformat_minor": 5
}
